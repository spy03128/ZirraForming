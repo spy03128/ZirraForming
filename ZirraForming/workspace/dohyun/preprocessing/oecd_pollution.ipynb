{
 "cells": [
  {
   "cell_type": "code",
   "execution_count": 20,
   "outputs": [],
   "source": [
    "import pandas as pd"
   ],
   "metadata": {
    "collapsed": false,
    "pycharm": {
     "name": "#%%\n"
    }
   }
  },
  {
   "cell_type": "code",
   "execution_count": 21,
   "outputs": [],
   "source": [
    "df = pd.read_csv(\"data/oecd-result1.csv\")\n",
    "df[\"index\"] = df[\"Country\"] + df[\"Year\"].apply(str)\n",
    "NOX = df.loc[df[\"POL\"] == \"NOX\", [\"index\", \"Country\", \"Year\", \"Value\"]]\n",
    "CO = df.loc[df[\"POL\"] == \"CO\", [\"index\", \"Country\", \"Year\", \"Value\"]]\n",
    "NMVOC = df.loc[df[\"POL\"] == \"NMVOC\", [\"index\", \"Country\", \"Year\", \"Value\"]]\n",
    "PM10 = df.loc[df[\"POL\"] == \"PM10\", [\"index\", \"Country\", \"Year\", \"Value\"]]\n",
    "PM25 = df.loc[df[\"POL\"] == \"PM2-5\", [\"index\", \"Country\", \"Year\", \"Value\"]]"
   ],
   "metadata": {
    "collapsed": false,
    "pycharm": {
     "name": "#%%\n"
    }
   }
  },
  {
   "cell_type": "code",
   "execution_count": 22,
   "outputs": [],
   "source": [
    "NOX.rename(columns={\"Value\": \"NOX\"}, inplace=True)\n",
    "CO.rename(columns={\"Value\": \"CO\"}, inplace=True)\n",
    "NMVOC.rename(columns={\"Value\": \"NMVOC\"}, inplace=True)\n",
    "PM10.rename(columns={\"Value\": \"PM10\"}, inplace=True)\n",
    "PM25.rename(columns={\"Value\": \"PM2.5\"}, inplace=True)"
   ],
   "metadata": {
    "collapsed": false,
    "pycharm": {
     "name": "#%%\n"
    }
   }
  },
  {
   "cell_type": "code",
   "execution_count": 23,
   "outputs": [
    {
     "data": {
      "text/plain": "                 index        Country  Year        NOX         CO\n0        Australia1990      Australia  1990   1620.455   5728.572\n1        Australia1991      Australia  1991   1595.685   5747.153\n2        Australia1992      Australia  1992   1641.505   5896.438\n3        Australia1993      Australia  1993   1684.372   6120.590\n4        Australia1994      Australia  1994   1686.574   6262.886\n..                 ...            ...   ...        ...        ...\n286  United States2015  United States  2015  10489.687  48107.470\n287  United States2016  United States  2016   9239.463  43924.212\n288  United States2017  United States  2017   8716.058  42745.097\n289  United States2018  United States  2018   8194.807  43022.716\n290  United States2019  United States  2019   7714.427  41198.611\n\n[291 rows x 5 columns]",
      "text/html": "<div>\n<style scoped>\n    .dataframe tbody tr th:only-of-type {\n        vertical-align: middle;\n    }\n\n    .dataframe tbody tr th {\n        vertical-align: top;\n    }\n\n    .dataframe thead th {\n        text-align: right;\n    }\n</style>\n<table border=\"1\" class=\"dataframe\">\n  <thead>\n    <tr style=\"text-align: right;\">\n      <th></th>\n      <th>index</th>\n      <th>Country</th>\n      <th>Year</th>\n      <th>NOX</th>\n      <th>CO</th>\n    </tr>\n  </thead>\n  <tbody>\n    <tr>\n      <th>0</th>\n      <td>Australia1990</td>\n      <td>Australia</td>\n      <td>1990</td>\n      <td>1620.455</td>\n      <td>5728.572</td>\n    </tr>\n    <tr>\n      <th>1</th>\n      <td>Australia1991</td>\n      <td>Australia</td>\n      <td>1991</td>\n      <td>1595.685</td>\n      <td>5747.153</td>\n    </tr>\n    <tr>\n      <th>2</th>\n      <td>Australia1992</td>\n      <td>Australia</td>\n      <td>1992</td>\n      <td>1641.505</td>\n      <td>5896.438</td>\n    </tr>\n    <tr>\n      <th>3</th>\n      <td>Australia1993</td>\n      <td>Australia</td>\n      <td>1993</td>\n      <td>1684.372</td>\n      <td>6120.590</td>\n    </tr>\n    <tr>\n      <th>4</th>\n      <td>Australia1994</td>\n      <td>Australia</td>\n      <td>1994</td>\n      <td>1686.574</td>\n      <td>6262.886</td>\n    </tr>\n    <tr>\n      <th>...</th>\n      <td>...</td>\n      <td>...</td>\n      <td>...</td>\n      <td>...</td>\n      <td>...</td>\n    </tr>\n    <tr>\n      <th>286</th>\n      <td>United States2015</td>\n      <td>United States</td>\n      <td>2015</td>\n      <td>10489.687</td>\n      <td>48107.470</td>\n    </tr>\n    <tr>\n      <th>287</th>\n      <td>United States2016</td>\n      <td>United States</td>\n      <td>2016</td>\n      <td>9239.463</td>\n      <td>43924.212</td>\n    </tr>\n    <tr>\n      <th>288</th>\n      <td>United States2017</td>\n      <td>United States</td>\n      <td>2017</td>\n      <td>8716.058</td>\n      <td>42745.097</td>\n    </tr>\n    <tr>\n      <th>289</th>\n      <td>United States2018</td>\n      <td>United States</td>\n      <td>2018</td>\n      <td>8194.807</td>\n      <td>43022.716</td>\n    </tr>\n    <tr>\n      <th>290</th>\n      <td>United States2019</td>\n      <td>United States</td>\n      <td>2019</td>\n      <td>7714.427</td>\n      <td>41198.611</td>\n    </tr>\n  </tbody>\n</table>\n<p>291 rows × 5 columns</p>\n</div>"
     },
     "execution_count": 23,
     "metadata": {},
     "output_type": "execute_result"
    }
   ],
   "source": [
    "merge = pd.merge(NOX, CO.loc[:, [\"index\", \"CO\"]], left_on=\"index\", right_on=\"index\", how=\"inner\")\n",
    "merge"
   ],
   "metadata": {
    "collapsed": false,
    "pycharm": {
     "name": "#%%\n"
    }
   }
  },
  {
   "cell_type": "code",
   "execution_count": 24,
   "outputs": [
    {
     "data": {
      "text/plain": "                 index        Country  Year        NOX         CO      NMVOC\n0        Australia1990      Australia  1990   1620.455   5728.572   1514.639\n1        Australia1991      Australia  1991   1595.685   5747.153   1506.220\n2        Australia1992      Australia  1992   1641.505   5896.438   1510.862\n3        Australia1993      Australia  1993   1684.372   6120.590   1528.016\n4        Australia1994      Australia  1994   1686.574   6262.886   1539.812\n..                 ...            ...   ...        ...        ...        ...\n286  United States2015  United States  2015  10489.687  48107.470  12577.029\n287  United States2016  United States  2016   9239.463  43924.212  11786.691\n288  United States2017  United States  2017   8716.058  42745.097  11437.006\n289  United States2018  United States  2018   8194.807  43022.716  11735.196\n290  United States2019  United States  2019   7714.427  41198.611  10980.597\n\n[291 rows x 6 columns]",
      "text/html": "<div>\n<style scoped>\n    .dataframe tbody tr th:only-of-type {\n        vertical-align: middle;\n    }\n\n    .dataframe tbody tr th {\n        vertical-align: top;\n    }\n\n    .dataframe thead th {\n        text-align: right;\n    }\n</style>\n<table border=\"1\" class=\"dataframe\">\n  <thead>\n    <tr style=\"text-align: right;\">\n      <th></th>\n      <th>index</th>\n      <th>Country</th>\n      <th>Year</th>\n      <th>NOX</th>\n      <th>CO</th>\n      <th>NMVOC</th>\n    </tr>\n  </thead>\n  <tbody>\n    <tr>\n      <th>0</th>\n      <td>Australia1990</td>\n      <td>Australia</td>\n      <td>1990</td>\n      <td>1620.455</td>\n      <td>5728.572</td>\n      <td>1514.639</td>\n    </tr>\n    <tr>\n      <th>1</th>\n      <td>Australia1991</td>\n      <td>Australia</td>\n      <td>1991</td>\n      <td>1595.685</td>\n      <td>5747.153</td>\n      <td>1506.220</td>\n    </tr>\n    <tr>\n      <th>2</th>\n      <td>Australia1992</td>\n      <td>Australia</td>\n      <td>1992</td>\n      <td>1641.505</td>\n      <td>5896.438</td>\n      <td>1510.862</td>\n    </tr>\n    <tr>\n      <th>3</th>\n      <td>Australia1993</td>\n      <td>Australia</td>\n      <td>1993</td>\n      <td>1684.372</td>\n      <td>6120.590</td>\n      <td>1528.016</td>\n    </tr>\n    <tr>\n      <th>4</th>\n      <td>Australia1994</td>\n      <td>Australia</td>\n      <td>1994</td>\n      <td>1686.574</td>\n      <td>6262.886</td>\n      <td>1539.812</td>\n    </tr>\n    <tr>\n      <th>...</th>\n      <td>...</td>\n      <td>...</td>\n      <td>...</td>\n      <td>...</td>\n      <td>...</td>\n      <td>...</td>\n    </tr>\n    <tr>\n      <th>286</th>\n      <td>United States2015</td>\n      <td>United States</td>\n      <td>2015</td>\n      <td>10489.687</td>\n      <td>48107.470</td>\n      <td>12577.029</td>\n    </tr>\n    <tr>\n      <th>287</th>\n      <td>United States2016</td>\n      <td>United States</td>\n      <td>2016</td>\n      <td>9239.463</td>\n      <td>43924.212</td>\n      <td>11786.691</td>\n    </tr>\n    <tr>\n      <th>288</th>\n      <td>United States2017</td>\n      <td>United States</td>\n      <td>2017</td>\n      <td>8716.058</td>\n      <td>42745.097</td>\n      <td>11437.006</td>\n    </tr>\n    <tr>\n      <th>289</th>\n      <td>United States2018</td>\n      <td>United States</td>\n      <td>2018</td>\n      <td>8194.807</td>\n      <td>43022.716</td>\n      <td>11735.196</td>\n    </tr>\n    <tr>\n      <th>290</th>\n      <td>United States2019</td>\n      <td>United States</td>\n      <td>2019</td>\n      <td>7714.427</td>\n      <td>41198.611</td>\n      <td>10980.597</td>\n    </tr>\n  </tbody>\n</table>\n<p>291 rows × 6 columns</p>\n</div>"
     },
     "execution_count": 24,
     "metadata": {},
     "output_type": "execute_result"
    }
   ],
   "source": [
    "merge = pd.merge(merge, NMVOC.loc[:, [\"index\", \"NMVOC\"]], on=\"index\", how=\"inner\")\n",
    "merge"
   ],
   "metadata": {
    "collapsed": false,
    "pycharm": {
     "name": "#%%\n"
    }
   }
  },
  {
   "cell_type": "code",
   "execution_count": 25,
   "outputs": [
    {
     "data": {
      "text/plain": "                 index        Country  Year        NOX         CO      NMVOC  \\\n0           Canada1990         Canada  1990   2299.407  11589.890   2871.115   \n1           Canada1991         Canada  1991   2211.588  11385.200   2812.988   \n2           Canada1992         Canada  1992   2250.348  11325.100   2834.188   \n3           Canada1993         Canada  1993   2300.251  11596.590   2919.891   \n4           Canada1994         Canada  1994   2416.135  11566.730   2947.092   \n..                 ...            ...   ...        ...        ...        ...   \n211  United States2015  United States  2015  10489.687  48107.470  12577.029   \n212  United States2016  United States  2016   9239.463  43924.212  11786.691   \n213  United States2017  United States  2017   8716.058  42745.097  11437.006   \n214  United States2018  United States  2018   8194.807  43022.716  11735.196   \n215  United States2019  United States  2019   7714.427  41198.611  10980.597   \n\n          PM10  \n0     6669.249  \n1     6429.815  \n2     6378.559  \n3     6261.898  \n4     6578.460  \n..         ...  \n211  14950.863  \n212  14319.802  \n213  13682.383  \n214  13522.404  \n215  13085.196  \n\n[216 rows x 7 columns]",
      "text/html": "<div>\n<style scoped>\n    .dataframe tbody tr th:only-of-type {\n        vertical-align: middle;\n    }\n\n    .dataframe tbody tr th {\n        vertical-align: top;\n    }\n\n    .dataframe thead th {\n        text-align: right;\n    }\n</style>\n<table border=\"1\" class=\"dataframe\">\n  <thead>\n    <tr style=\"text-align: right;\">\n      <th></th>\n      <th>index</th>\n      <th>Country</th>\n      <th>Year</th>\n      <th>NOX</th>\n      <th>CO</th>\n      <th>NMVOC</th>\n      <th>PM10</th>\n    </tr>\n  </thead>\n  <tbody>\n    <tr>\n      <th>0</th>\n      <td>Canada1990</td>\n      <td>Canada</td>\n      <td>1990</td>\n      <td>2299.407</td>\n      <td>11589.890</td>\n      <td>2871.115</td>\n      <td>6669.249</td>\n    </tr>\n    <tr>\n      <th>1</th>\n      <td>Canada1991</td>\n      <td>Canada</td>\n      <td>1991</td>\n      <td>2211.588</td>\n      <td>11385.200</td>\n      <td>2812.988</td>\n      <td>6429.815</td>\n    </tr>\n    <tr>\n      <th>2</th>\n      <td>Canada1992</td>\n      <td>Canada</td>\n      <td>1992</td>\n      <td>2250.348</td>\n      <td>11325.100</td>\n      <td>2834.188</td>\n      <td>6378.559</td>\n    </tr>\n    <tr>\n      <th>3</th>\n      <td>Canada1993</td>\n      <td>Canada</td>\n      <td>1993</td>\n      <td>2300.251</td>\n      <td>11596.590</td>\n      <td>2919.891</td>\n      <td>6261.898</td>\n    </tr>\n    <tr>\n      <th>4</th>\n      <td>Canada1994</td>\n      <td>Canada</td>\n      <td>1994</td>\n      <td>2416.135</td>\n      <td>11566.730</td>\n      <td>2947.092</td>\n      <td>6578.460</td>\n    </tr>\n    <tr>\n      <th>...</th>\n      <td>...</td>\n      <td>...</td>\n      <td>...</td>\n      <td>...</td>\n      <td>...</td>\n      <td>...</td>\n      <td>...</td>\n    </tr>\n    <tr>\n      <th>211</th>\n      <td>United States2015</td>\n      <td>United States</td>\n      <td>2015</td>\n      <td>10489.687</td>\n      <td>48107.470</td>\n      <td>12577.029</td>\n      <td>14950.863</td>\n    </tr>\n    <tr>\n      <th>212</th>\n      <td>United States2016</td>\n      <td>United States</td>\n      <td>2016</td>\n      <td>9239.463</td>\n      <td>43924.212</td>\n      <td>11786.691</td>\n      <td>14319.802</td>\n    </tr>\n    <tr>\n      <th>213</th>\n      <td>United States2017</td>\n      <td>United States</td>\n      <td>2017</td>\n      <td>8716.058</td>\n      <td>42745.097</td>\n      <td>11437.006</td>\n      <td>13682.383</td>\n    </tr>\n    <tr>\n      <th>214</th>\n      <td>United States2018</td>\n      <td>United States</td>\n      <td>2018</td>\n      <td>8194.807</td>\n      <td>43022.716</td>\n      <td>11735.196</td>\n      <td>13522.404</td>\n    </tr>\n    <tr>\n      <th>215</th>\n      <td>United States2019</td>\n      <td>United States</td>\n      <td>2019</td>\n      <td>7714.427</td>\n      <td>41198.611</td>\n      <td>10980.597</td>\n      <td>13085.196</td>\n    </tr>\n  </tbody>\n</table>\n<p>216 rows × 7 columns</p>\n</div>"
     },
     "execution_count": 25,
     "metadata": {},
     "output_type": "execute_result"
    }
   ],
   "source": [
    "merge = pd.merge(merge, PM10.loc[:, [\"index\", \"PM10\"]], on=\"index\", how=\"inner\")\n",
    "merge"
   ],
   "metadata": {
    "collapsed": false,
    "pycharm": {
     "name": "#%%\n"
    }
   }
  },
  {
   "cell_type": "code",
   "execution_count": 26,
   "outputs": [
    {
     "data": {
      "text/plain": "                 index        Country  Year        NOX         CO      NMVOC  \\\n0           Canada1990         Canada  1990   2299.407  11589.890   2871.115   \n1           Canada1991         Canada  1991   2211.588  11385.200   2812.988   \n2           Canada1992         Canada  1992   2250.348  11325.100   2834.188   \n3           Canada1993         Canada  1993   2300.251  11596.590   2919.891   \n4           Canada1994         Canada  1994   2416.135  11566.730   2947.092   \n..                 ...            ...   ...        ...        ...        ...   \n199  United States2015  United States  2015  10489.687  48107.470  12577.029   \n200  United States2016  United States  2016   9239.463  43924.212  11786.691   \n201  United States2017  United States  2017   8716.058  42745.097  11437.006   \n202  United States2018  United States  2018   8194.807  43022.716  11735.196   \n203  United States2019  United States  2019   7714.427  41198.611  10980.597   \n\n          PM10     PM2.5  \n0     6669.249  1682.019  \n1     6429.815  1630.670  \n2     6378.559  1595.657  \n3     6261.898  1574.071  \n4     6578.460  1611.059  \n..         ...       ...  \n199  14950.863  3939.963  \n200  14319.802  3786.711  \n201  13682.383  3652.227  \n202  13522.404  3771.162  \n203  13085.196  3606.182  \n\n[204 rows x 8 columns]",
      "text/html": "<div>\n<style scoped>\n    .dataframe tbody tr th:only-of-type {\n        vertical-align: middle;\n    }\n\n    .dataframe tbody tr th {\n        vertical-align: top;\n    }\n\n    .dataframe thead th {\n        text-align: right;\n    }\n</style>\n<table border=\"1\" class=\"dataframe\">\n  <thead>\n    <tr style=\"text-align: right;\">\n      <th></th>\n      <th>index</th>\n      <th>Country</th>\n      <th>Year</th>\n      <th>NOX</th>\n      <th>CO</th>\n      <th>NMVOC</th>\n      <th>PM10</th>\n      <th>PM2.5</th>\n    </tr>\n  </thead>\n  <tbody>\n    <tr>\n      <th>0</th>\n      <td>Canada1990</td>\n      <td>Canada</td>\n      <td>1990</td>\n      <td>2299.407</td>\n      <td>11589.890</td>\n      <td>2871.115</td>\n      <td>6669.249</td>\n      <td>1682.019</td>\n    </tr>\n    <tr>\n      <th>1</th>\n      <td>Canada1991</td>\n      <td>Canada</td>\n      <td>1991</td>\n      <td>2211.588</td>\n      <td>11385.200</td>\n      <td>2812.988</td>\n      <td>6429.815</td>\n      <td>1630.670</td>\n    </tr>\n    <tr>\n      <th>2</th>\n      <td>Canada1992</td>\n      <td>Canada</td>\n      <td>1992</td>\n      <td>2250.348</td>\n      <td>11325.100</td>\n      <td>2834.188</td>\n      <td>6378.559</td>\n      <td>1595.657</td>\n    </tr>\n    <tr>\n      <th>3</th>\n      <td>Canada1993</td>\n      <td>Canada</td>\n      <td>1993</td>\n      <td>2300.251</td>\n      <td>11596.590</td>\n      <td>2919.891</td>\n      <td>6261.898</td>\n      <td>1574.071</td>\n    </tr>\n    <tr>\n      <th>4</th>\n      <td>Canada1994</td>\n      <td>Canada</td>\n      <td>1994</td>\n      <td>2416.135</td>\n      <td>11566.730</td>\n      <td>2947.092</td>\n      <td>6578.460</td>\n      <td>1611.059</td>\n    </tr>\n    <tr>\n      <th>...</th>\n      <td>...</td>\n      <td>...</td>\n      <td>...</td>\n      <td>...</td>\n      <td>...</td>\n      <td>...</td>\n      <td>...</td>\n      <td>...</td>\n    </tr>\n    <tr>\n      <th>199</th>\n      <td>United States2015</td>\n      <td>United States</td>\n      <td>2015</td>\n      <td>10489.687</td>\n      <td>48107.470</td>\n      <td>12577.029</td>\n      <td>14950.863</td>\n      <td>3939.963</td>\n    </tr>\n    <tr>\n      <th>200</th>\n      <td>United States2016</td>\n      <td>United States</td>\n      <td>2016</td>\n      <td>9239.463</td>\n      <td>43924.212</td>\n      <td>11786.691</td>\n      <td>14319.802</td>\n      <td>3786.711</td>\n    </tr>\n    <tr>\n      <th>201</th>\n      <td>United States2017</td>\n      <td>United States</td>\n      <td>2017</td>\n      <td>8716.058</td>\n      <td>42745.097</td>\n      <td>11437.006</td>\n      <td>13682.383</td>\n      <td>3652.227</td>\n    </tr>\n    <tr>\n      <th>202</th>\n      <td>United States2018</td>\n      <td>United States</td>\n      <td>2018</td>\n      <td>8194.807</td>\n      <td>43022.716</td>\n      <td>11735.196</td>\n      <td>13522.404</td>\n      <td>3771.162</td>\n    </tr>\n    <tr>\n      <th>203</th>\n      <td>United States2019</td>\n      <td>United States</td>\n      <td>2019</td>\n      <td>7714.427</td>\n      <td>41198.611</td>\n      <td>10980.597</td>\n      <td>13085.196</td>\n      <td>3606.182</td>\n    </tr>\n  </tbody>\n</table>\n<p>204 rows × 8 columns</p>\n</div>"
     },
     "execution_count": 26,
     "metadata": {},
     "output_type": "execute_result"
    }
   ],
   "source": [
    "merge = pd.merge(merge, PM25.loc[:, [\"index\", \"PM2.5\"]], on=\"index\", how=\"inner\")\n",
    "merge"
   ],
   "metadata": {
    "collapsed": false,
    "pycharm": {
     "name": "#%%\n"
    }
   }
  },
  {
   "cell_type": "code",
   "execution_count": 29,
   "outputs": [],
   "source": [
    "merge = merge[[\"Country\", \"Year\", \"NOX\", \"CO\", \"NMVOC\", \"PM10\", \"PM2.5\"]]\n",
    "merge.to_csv(\"result/oecd-preprocessing-result.csv\")"
   ],
   "metadata": {
    "collapsed": false,
    "pycharm": {
     "name": "#%%\n"
    }
   }
  },
  {
   "cell_type": "code",
   "execution_count": 27,
   "outputs": [],
   "source": [],
   "metadata": {
    "collapsed": false,
    "pycharm": {
     "name": "#%%\n"
    }
   }
  }
 ],
 "metadata": {
  "kernelspec": {
   "display_name": "Python 3",
   "language": "python",
   "name": "python3"
  },
  "language_info": {
   "codemirror_mode": {
    "name": "ipython",
    "version": 2
   },
   "file_extension": ".py",
   "mimetype": "text/x-python",
   "name": "python",
   "nbconvert_exporter": "python",
   "pygments_lexer": "ipython2",
   "version": "2.7.6"
  }
 },
 "nbformat": 4,
 "nbformat_minor": 0
}